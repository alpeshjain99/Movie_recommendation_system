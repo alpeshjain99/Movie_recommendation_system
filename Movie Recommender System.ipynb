{
 "cells": [
  {
   "cell_type": "markdown",
   "metadata": {},
   "source": [
    "# Importing the Necessary Libraries"
   ]
  },
  {
   "cell_type": "code",
   "execution_count": 1,
   "metadata": {},
   "outputs": [],
   "source": [
    "import numpy as np\n",
    "import pandas as pd\n",
    "from sklearn.feature_extraction.text import CountVectorizer\n",
    "from sklearn.metrics.pairwise import cosine_similarity"
   ]
  },
  {
   "cell_type": "markdown",
   "metadata": {},
   "source": [
    "# Step 1   Read Dataset('csv')file\n",
    "\n",
    "\n"
   ]
  },
  {
   "cell_type": "code",
   "execution_count": 2,
   "metadata": {},
   "outputs": [],
   "source": [
    "dataset = pd.read_csv('movie_dataset.csv');"
   ]
  },
  {
   "cell_type": "markdown",
   "metadata": {},
   "source": [
    "# Step 2 Selecting the features"
   ]
  },
  {
   "cell_type": "code",
   "execution_count": 3,
   "metadata": {},
   "outputs": [],
   "source": [
    "features = ['keywords','cast','genres','director']"
   ]
  },
  {
   "cell_type": "markdown",
   "metadata": {},
   "source": [
    "# Step 3 Create a dataframe in dataset which combines all selected features"
   ]
  },
  {
   "cell_type": "code",
   "execution_count": 5,
   "metadata": {},
   "outputs": [],
   "source": [
    "for feature in features:\n",
    "    dataset[feature] = dataset[feature].fillna(' ')\n",
    "    \n",
    "def combine_features(row):\n",
    "    try:\n",
    "        return row['keywords'] + \" \"+ row['cast'] + \" \"+ row['genres'] + \" \"+ row['director'];\n",
    "    except:\n",
    "        print('Error in the row of the dataset',row)           \n",
    "dataset['comb_feature'] = dataset.apply(combine_features,axis=1)\n",
    "# print('Combined Features:',dataset['comb_feature'].head())\n"
   ]
  },
  {
   "cell_type": "markdown",
   "metadata": {},
   "source": [
    "# Step 4 Create a count_matrix from this combined column"
   ]
  },
  {
   "cell_type": "code",
   "execution_count": 6,
   "metadata": {},
   "outputs": [],
   "source": [
    "cv = CountVectorizer()\n",
    "count_matrix = cv.fit_transform(dataset['comb_feature'])\n"
   ]
  },
  {
   "cell_type": "markdown",
   "metadata": {},
   "source": [
    "# Step 5 Compute the cosine similarity based on the count_matrix"
   ]
  },
  {
   "cell_type": "code",
   "execution_count": 7,
   "metadata": {},
   "outputs": [],
   "source": [
    "cosine_sim = cosine_similarity(count_matrix)"
   ]
  },
  {
   "cell_type": "markdown",
   "metadata": {},
   "source": [
    "# ⏺⏺➡➡➡**Enter Input which type of movie do u wanna see⬅⬅⏺⏺**"
   ]
  },
  {
   "cell_type": "code",
   "execution_count": 9,
   "metadata": {},
   "outputs": [],
   "source": [
    "movie_user_like =  'Resident Evil: Afterlife'# for Example"
   ]
  },
  {
   "cell_type": "markdown",
   "metadata": {},
   "source": [
    "# Step 6 Get index of the movie from the given title"
   ]
  },
  {
   "cell_type": "markdown",
   "metadata": {},
   "source": [
    "### Necessary Functions"
   ]
  },
  {
   "cell_type": "code",
   "execution_count": 11,
   "metadata": {},
   "outputs": [],
   "source": [
    "def get_title_from_index(index):\n",
    "    return dataset[dataset.index == index]['title'].values[0]\n",
    "def get_index_from_title(title):    \n",
    "    return dataset[dataset.title == title]['index'].values[0]\n"
   ]
  },
  {
   "cell_type": "code",
   "execution_count": 13,
   "metadata": {},
   "outputs": [],
   "source": [
    "movie_index = get_index_from_title(movie_user_like);\n",
    "similar_movies = list(enumerate(cosine_sim[movie_index]))"
   ]
  },
  {
   "cell_type": "markdown",
   "metadata": {},
   "source": [
    "# Step 7 Get a list of similar Movies in descending order of similarity"
   ]
  },
  {
   "cell_type": "code",
   "execution_count": 14,
   "metadata": {},
   "outputs": [],
   "source": [
    "sorted_sim_mov = sorted(similar_movies,key = lambda x:x[1],reverse = True)"
   ]
  },
  {
   "cell_type": "markdown",
   "metadata": {},
   "source": [
    "# Step 8 Print title of first 50 Similar Movies"
   ]
  },
  {
   "cell_type": "code",
   "execution_count": 15,
   "metadata": {},
   "outputs": [
    {
     "name": "stdout",
     "output_type": "stream",
     "text": [
      "Resident Evil: Afterlife\n",
      "Resident Evil: Extinction\n",
      "Resident Evil\n",
      "Resident Evil: Retribution\n",
      "Mad Max: Fury Road\n",
      "Mad Max\n",
      "Mutant World\n",
      "Battlefield Earth\n",
      "Priest\n",
      "The Helix... Loaded\n",
      "Resident Evil: Apocalypse\n",
      "Dawn of the Planet of the Apes\n",
      "Mad Max 2: The Road Warrior\n",
      "The Three Musketeers\n",
      "Def-Con 4\n",
      "Battle for the Planet of the Apes\n",
      "9\n",
      "Damnation Alley\n",
      "Ultraviolet\n",
      "Mad Max Beyond Thunderdome\n",
      "Beneath the Planet of the Apes\n",
      "The Book of Eli\n",
      "Terminator 2: Judgment Day\n",
      "The Fifth Element\n",
      "The Hunger Games: Mockingjay - Part 1\n",
      "AVP: Alien vs. Predator\n",
      "Repo Men\n",
      "Alien Zone\n",
      "I Am Legend\n",
      "The Blood of Heroes\n",
      "Hollow Man\n",
      "Soldier\n",
      "The Maze Runner\n",
      "Terminator Genisys\n",
      "The Dead Undead\n",
      "Journey to Saturn\n",
      "Six-String Samurai\n",
      "After Earth\n",
      "Repo! The Genetic Opera\n",
      "Escape from the Planet of the Apes\n",
      "Zombie Hunter\n",
      "Death Race 2000\n",
      "Paycheck\n",
      "Alien: Resurrection\n",
      "Event Horizon\n",
      "Pandorum\n",
      "Split Second\n",
      "Death Race\n",
      "G.I. Joe: The Rise of Cobra\n",
      "Total Recall\n",
      "Oblivion\n"
     ]
    }
   ],
   "source": [
    "i=0\n",
    "for element in sorted_sim_mov:\n",
    "    print(get_title_from_index(element[0]))\n",
    "    i = i+1\n",
    "    if(i>50):\n",
    "        break\n"
   ]
  },
  {
   "cell_type": "markdown",
   "metadata": {},
   "source": [
    "***********"
   ]
  },
  {
   "cell_type": "code",
   "execution_count": null,
   "metadata": {},
   "outputs": [],
   "source": []
  }
 ],
 "metadata": {
  "kernelspec": {
   "display_name": "Python 3",
   "language": "python",
   "name": "python3"
  },
  "language_info": {
   "codemirror_mode": {
    "name": "ipython",
    "version": 3
   },
   "file_extension": ".py",
   "mimetype": "text/x-python",
   "name": "python",
   "nbconvert_exporter": "python",
   "pygments_lexer": "ipython3",
   "version": "3.7.5"
  }
 },
 "nbformat": 4,
 "nbformat_minor": 2
}
